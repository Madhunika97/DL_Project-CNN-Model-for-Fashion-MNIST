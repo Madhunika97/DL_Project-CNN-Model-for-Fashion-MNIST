{
 "cells": [
  {
   "cell_type": "markdown",
   "id": "3f681245-0e16-4615-902c-616b8367d881",
   "metadata": {},
   "source": [
    "## Importing the necessary Libraries"
   ]
  },
  {
   "cell_type": "code",
   "execution_count": 1,
   "id": "6ed2200a-4911-428f-8bff-7e9621ad4fac",
   "metadata": {},
   "outputs": [],
   "source": [
    "import pandas as pd\n",
    "import tensorflow as tf\n",
    "from tensorflow import keras\n",
    "import numpy as np\n",
    "import matplotlib.pyplot as plt"
   ]
  },
  {
   "cell_type": "markdown",
   "id": "8ef0da98-ad8a-41dd-a352-18e896d9fc9c",
   "metadata": {},
   "source": [
    "## Loading the dataset"
   ]
  },
  {
   "cell_type": "code",
   "execution_count": 2,
   "id": "54ef618c-545e-4b83-9906-357c2dd354d9",
   "metadata": {},
   "outputs": [],
   "source": [
    "train_data = r\"C:\\Users\\madhu\\OneDrive\\Pictures\\fashion-mnist_train.csv\"\n",
    "test_data = r\"C:\\Users\\madhu\\OneDrive\\Pictures\\fashion-mnist_test.csv\"\n",
    "\n",
    "df_train = pd.read_csv(train_data)\n",
    "df_test = pd.read_csv (test_data)"
   ]
  },
  {
   "cell_type": "markdown",
   "id": "0cb830a8-8d94-4095-ac5f-546868c3dd09",
   "metadata": {},
   "source": [
    "## Preprocessing the data"
   ]
  },
  {
   "cell_type": "code",
   "execution_count": 3,
   "id": "c6816473-013a-489f-8bda-447007f540b3",
   "metadata": {},
   "outputs": [],
   "source": [
    "X_train = df_train.iloc [:,1:].values\n",
    "y_train = df_train.iloc [:,0].values"
   ]
  },
  {
   "cell_type": "code",
   "execution_count": 4,
   "id": "66bdd69e-7fc4-4bb0-a41d-9107fac9dee4",
   "metadata": {},
   "outputs": [],
   "source": [
    "X_test = df_test.iloc [:,1:].values\n",
    "y_test = df_test.iloc [:,0].values"
   ]
  },
  {
   "cell_type": "markdown",
   "id": "5db9dbfd-8018-4aea-abb8-c14440269e79",
   "metadata": {},
   "source": [
    "### Normalizing pixel values"
   ]
  },
  {
   "cell_type": "code",
   "execution_count": 5,
   "id": "69145a49-76d5-4158-a0dd-7469b1b49934",
   "metadata": {},
   "outputs": [],
   "source": [
    "X_train = X_train/255.0\n",
    "X_test = X_test/255.0"
   ]
  },
  {
   "cell_type": "markdown",
   "id": "1ea480bd-3162-4e68-b61a-aa113e70723a",
   "metadata": {},
   "source": [
    "### Reshape the data for CNN input"
   ]
  },
  {
   "cell_type": "code",
   "execution_count": 6,
   "id": "cbc3a71c-8879-4dcd-86dc-ed306b8d6518",
   "metadata": {},
   "outputs": [],
   "source": [
    "X_train = X_train.reshape (-1, 28, 28, 1)\n",
    "X_test = X_test.reshape (-1, 28, 28, 1)"
   ]
  },
  {
   "cell_type": "markdown",
   "id": "df06c79e-974e-4107-a65e-1a7bc42d0cf0",
   "metadata": {},
   "source": [
    "### Determining number of unique classes"
   ]
  },
  {
   "cell_type": "code",
   "execution_count": 16,
   "id": "4dd5a1e2-3954-428f-8363-5f1fe8183818",
   "metadata": {},
   "outputs": [],
   "source": [
    "class_names = {\n",
    "    0: \"T-shirt\", 1: \"Trouser\", 2: \"Pullover\", 3: \"Dress\", \n",
    "    4: \"Coat\", 5: \"Sandal\", 6: \"Shirt\", 7: \"Sneaker\", \n",
    "    8: \"Bag\", 9: \"Ankle boot\"\n",
    "}"
   ]
  },
  {
   "cell_type": "code",
   "execution_count": 17,
   "id": "658b27d6-e817-4e21-a796-f4c75b10c9a5",
   "metadata": {},
   "outputs": [
    {
     "name": "stdout",
     "output_type": "stream",
     "text": [
      "Unique Class Labels: [0 1 2 3 4 5 6 7 8 9]\n"
     ]
    }
   ],
   "source": [
    "unique_classes = np.unique(y_train)\n",
    "print(\"Unique Class Labels:\", unique_classes)"
   ]
  },
  {
   "cell_type": "markdown",
   "id": "b5613d91-a13b-4855-ad02-eca815d0e86e",
   "metadata": {},
   "source": [
    "### Map Numerical labdels to class labels"
   ]
  },
  {
   "cell_type": "code",
   "execution_count": 18,
   "id": "00cf9215-6f43-4b6c-b270-c5db42fc9bf3",
   "metadata": {},
   "outputs": [
    {
     "name": "stdout",
     "output_type": "stream",
     "text": [
      "Unique Class Names: ['T-shirt', 'Trouser', 'Pullover', 'Dress', 'Coat', 'Sandal', 'Shirt', 'Sneaker', 'Bag', 'Ankle boot']\n"
     ]
    }
   ],
   "source": [
    "named_classes = [class_names[label] for label in unique_classes if label in class_names]\n",
    "print(\"Unique Class Names:\", named_classes)"
   ]
  },
  {
   "cell_type": "markdown",
   "id": "38f8486f-11d0-400e-9b2f-7c3c0d5183da",
   "metadata": {},
   "source": [
    "### Defining CNN Model Architecture"
   ]
  },
  {
   "cell_type": "code",
   "execution_count": 23,
   "id": "16d7184c-d12c-4ace-8b9d-2264f02c3175",
   "metadata": {},
   "outputs": [],
   "source": [
    "model = keras.Sequential([  \n",
    "    # Input Layer\n",
    "    keras.layers.Input(shape=(28, 28, 1)),\n",
    "\n",
    "    # Convolution Layer 1\n",
    "    keras.layers.Conv2D(32, (3,3), activation='relu'),\n",
    "    keras.layers.MaxPooling2D(2,2),\n",
    "\n",
    "    # Convolution Layer 2\n",
    "    keras.layers.Conv2D(64, (3,3), activation='relu'),\n",
    "    keras.layers.MaxPooling2D(2,2),\n",
    "\n",
    "    # Fully Connected Layers\n",
    "    keras.layers.Flatten(),\n",
    "    keras.layers.Dense(128, activation='relu'),\n",
    "\n",
    "    # Output Layer\n",
    "    keras.layers.Dense(num_classes, activation='softmax')\n",
    "])"
   ]
  },
  {
   "cell_type": "markdown",
   "id": "10065522-d9ee-4b5a-a38f-327702faf434",
   "metadata": {},
   "source": [
    "## Compiling the Model"
   ]
  },
  {
   "cell_type": "code",
   "execution_count": 25,
   "id": "7b2c223e-71f6-4c4a-b892-ed3f791985f2",
   "metadata": {},
   "outputs": [],
   "source": [
    "model.compile(optimizer='adam', loss = 'sparse_categorical_crossentropy',\n",
    "              metrics= ['accuracy'])"
   ]
  },
  {
   "cell_type": "markdown",
   "id": "25139d7b-e2f5-4727-9340-1e90a8a0b838",
   "metadata": {},
   "source": [
    "## Train the Model"
   ]
  },
  {
   "cell_type": "code",
   "execution_count": 26,
   "id": "af5d15bb-9fa0-41a7-a724-2a825527ce5d",
   "metadata": {},
   "outputs": [
    {
     "name": "stdout",
     "output_type": "stream",
     "text": [
      "Epoch 1/5\n",
      "\u001b[1m1875/1875\u001b[0m \u001b[32m━━━━━━━━━━━━━━━━━━━━\u001b[0m\u001b[37m\u001b[0m \u001b[1m23s\u001b[0m 11ms/step - accuracy: 0.7773 - loss: 0.6155 - val_accuracy: 0.8850 - val_loss: 0.3279\n",
      "Epoch 2/5\n",
      "\u001b[1m1875/1875\u001b[0m \u001b[32m━━━━━━━━━━━━━━━━━━━━\u001b[0m\u001b[37m\u001b[0m \u001b[1m19s\u001b[0m 10ms/step - accuracy: 0.8828 - loss: 0.3221 - val_accuracy: 0.8965 - val_loss: 0.2835\n",
      "Epoch 3/5\n",
      "\u001b[1m1875/1875\u001b[0m \u001b[32m━━━━━━━━━━━━━━━━━━━━\u001b[0m\u001b[37m\u001b[0m \u001b[1m19s\u001b[0m 10ms/step - accuracy: 0.9008 - loss: 0.2702 - val_accuracy: 0.9016 - val_loss: 0.2634\n",
      "Epoch 4/5\n",
      "\u001b[1m1875/1875\u001b[0m \u001b[32m━━━━━━━━━━━━━━━━━━━━\u001b[0m\u001b[37m\u001b[0m \u001b[1m20s\u001b[0m 11ms/step - accuracy: 0.9145 - loss: 0.2285 - val_accuracy: 0.9051 - val_loss: 0.2602\n",
      "Epoch 5/5\n",
      "\u001b[1m1875/1875\u001b[0m \u001b[32m━━━━━━━━━━━━━━━━━━━━\u001b[0m\u001b[37m\u001b[0m \u001b[1m19s\u001b[0m 10ms/step - accuracy: 0.9246 - loss: 0.2010 - val_accuracy: 0.9028 - val_loss: 0.2529\n"
     ]
    },
    {
     "data": {
      "text/plain": [
       "<keras.src.callbacks.history.History at 0x28351802270>"
      ]
     },
     "execution_count": 26,
     "metadata": {},
     "output_type": "execute_result"
    }
   ],
   "source": [
    "model.fit(X_train, y_train, epochs =5, validation_data= (X_test, y_test))"
   ]
  },
  {
   "cell_type": "markdown",
   "id": "c6cb128b-2f10-4d7e-95d0-227f05c0ecd9",
   "metadata": {},
   "source": [
    "## Evaluate the Model"
   ]
  },
  {
   "cell_type": "code",
   "execution_count": 27,
   "id": "28a5f690-4a05-4895-a244-09e7ddab39a1",
   "metadata": {},
   "outputs": [
    {
     "name": "stdout",
     "output_type": "stream",
     "text": [
      "\u001b[1m313/313\u001b[0m \u001b[32m━━━━━━━━━━━━━━━━━━━━\u001b[0m\u001b[37m\u001b[0m \u001b[1m2s\u001b[0m 7ms/step - accuracy: 0.9023 - loss: 0.2605\n",
      " Test Accuracy : 0.90280\n"
     ]
    }
   ],
   "source": [
    "test_loss, test_acc = model.evaluate (X_test, y_test)\n",
    "print (f\" Test Accuracy : {test_acc:.5f}\")"
   ]
  },
  {
   "cell_type": "markdown",
   "id": "2fb0067a-0117-4dac-a126-8aef58b0591d",
   "metadata": {},
   "source": [
    "## Making Predictions on sample Image"
   ]
  },
  {
   "cell_type": "code",
   "execution_count": 38,
   "id": "c44b0873-b883-4f96-91e5-d3e6da12e474",
   "metadata": {},
   "outputs": [
    {
     "data": {
      "image/png": "[encoded data removed]",
      "text/plain": [
       "<Figure size 640x480 with 1 Axes>"
      ]
     },
     "metadata": {},
     "output_type": "display_data"
    },
    {
     "name": "stdout",
     "output_type": "stream",
     "text": [
      "\u001b[1mPredicted Label: 0 (T-shirt)\u001b[0m\n"
     ]
    }
   ],
   "source": [
    "plt.imshow(X_test[0].reshape(28,28),cmap = 'gray')\n",
    "plt.title (\"Sample Test Image\")\n",
    "plt.show()\n",
    "print(f\"\\033[1mPredicted Label: {predicted_label} ({class_names[predicted_label]})\\033[0m\")\n",
    "           \n",
    "           "
   ]
  },
  {
   "cell_type": "code",
   "execution_count": null,
   "id": "0f6f89ef-dc32-42cf-a960-642aace1f0ce",
   "metadata": {},
   "outputs": [],
   "source": []
  }
 ],
 "metadata": {
  "kernelspec": {
   "display_name": "Python 3 (ipykernel)",
   "language": "python",
   "name": "python3"
  },
  "language_info": {
   "codemirror_mode": {
    "name": "ipython",
    "version": 3
   },
   "file_extension": ".py",
   "mimetype": "text/x-python",
   "name": "python",
   "nbconvert_exporter": "python",
   "pygments_lexer": "ipython3",
   "version": "3.12.7"
  }
 },
 "nbformat": 4,
 "nbformat_minor": 5
}
